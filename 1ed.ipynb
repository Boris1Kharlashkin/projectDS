{
 "cells": [
  {
   "cell_type": "code",
   "execution_count": 1,
   "id": "c0d3ac55",
   "metadata": {},
   "outputs": [
    {
     "name": "stdout",
     "output_type": "stream",
     "text": [
      "Requirement already satisfied: requests in c:\\users\\boris\\anaconda3\\lib\\site-packages (2.28.1)\n",
      "Requirement already satisfied: idna<4,>=2.5 in c:\\users\\boris\\anaconda3\\lib\\site-packages (from requests) (3.4)\n",
      "Requirement already satisfied: urllib3<1.27,>=1.21.1 in c:\\users\\boris\\anaconda3\\lib\\site-packages (from requests) (1.26.14)\n",
      "Requirement already satisfied: charset-normalizer<3,>=2 in c:\\users\\boris\\anaconda3\\lib\\site-packages (from requests) (2.0.4)\n",
      "Requirement already satisfied: certifi>=2017.4.17 in c:\\users\\boris\\anaconda3\\lib\\site-packages (from requests) (2022.12.7)\n",
      "Requirement already satisfied: beautifulsoup4 in c:\\users\\boris\\anaconda3\\lib\\site-packages (4.11.1)\n",
      "Requirement already satisfied: soupsieve>1.2 in c:\\users\\boris\\anaconda3\\lib\\site-packages (from beautifulsoup4) (2.3.2.post1)\n"
     ]
    }
   ],
   "source": [
    "!pip install requests\n",
    "!pip install beautifulsoup4"
   ]
  },
  {
   "cell_type": "code",
   "execution_count": 7,
   "id": "e4da7e69",
   "metadata": {},
   "outputs": [],
   "source": [
    "import requests\n",
    "import pandas as pd\n",
    "from bs4 import BeautifulSoup\n",
    "from IPython.display import HTML"
   ]
  },
  {
   "cell_type": "code",
   "execution_count": 2,
   "id": "4df425f0",
   "metadata": {},
   "outputs": [
    {
     "name": "stdout",
     "output_type": "stream",
     "text": [
      "   Место  Unnamed: 1           Название     Страна  \\\n",
      "0      1         NaN   Токио — Иокогама     Япония   \n",
      "1      2         NaN           Джакарта  Индонезия   \n",
      "2      3         NaN               Дели      Индия   \n",
      "3      4         NaN  Гуанчжоу — Фошань      Китай   \n",
      "4      5         NaN             Мумбаи      Индия   \n",
      "\n",
      "  Население,тыс. чел.(оценкана 2023 год)  Площадь,км²  \\\n",
      "0                                 37 785         8775   \n",
      "1                                 35 386         3546   \n",
      "2                                 31 190         2344   \n",
      "3                                 27 119         4543   \n",
      "4                                 25 189         1046   \n",
      "\n",
      "   Плотностьнаселения,чел./км²  \n",
      "0                         4306  \n",
      "1                         9980  \n",
      "2                        13307  \n",
      "3                         5970  \n",
      "4                        24073  \n"
     ]
    }
   ],
   "source": [
    "\n",
    "\n",
    "# Устанавливаем URL страницы\n",
    "url = \"https://ru.wikipedia.org/wiki/%D0%A1%D0%BF%D0%B8%D1%81%D0%BE%D0%BA_%D1%81%D0%B0%D0%BC%D1%8B%D1%85_%D0%BD%D0%B0%D1%81%D0%B5%D0%BB%D1%91%D0%BD%D0%BD%D1%8B%D1%85_%D0%B3%D0%BE%D1%80%D0%BE%D0%B4%D1%81%D0%BA%D0%B8%D1%85_%D0%B0%D0%B3%D0%BB%D0%BE%D0%BC%D0%B5%D1%80%D0%B0%D1%86%D0%B8%D0%B9\"\n",
    "\n",
    "# Получаем страницу\n",
    "response = requests.get(url)\n",
    "response.raise_for_status()  # проверка на ошибки\n",
    "\n",
    "# Парсим содержимое страницы\n",
    "soup = BeautifulSoup(response.text, 'html.parser')\n",
    "\n",
    "# Находим таблицу по классу\n",
    "table = soup.find('table', {'class': 'wikitable'})\n",
    "\n",
    "# Извлечение заголовков таблицы\n",
    "headers = [header.text.strip() for header in table.find_all('th')]\n",
    "\n",
    "# Извлечение данных из строк таблицы\n",
    "rows = []\n",
    "for row in table.find_all('tr')[1:]:\n",
    "    cells = row.find_all('td')\n",
    "    if len(cells) == len(headers):\n",
    "        row_data = {headers[i]: cells[i].text.strip() for i in range(len(headers))}\n",
    "        rows.append(row_data)\n",
    "\n",
    "# Создание DataFrame и сохранение в CSV\n",
    "df = pd.DataFrame(rows, columns=headers)\n",
    "df.to_csv('largest_cities.csv', index=False)\n",
    "\n",
    "# Загрузка данных из CSV и вывод первых строк\n",
    "df = pd.read_csv('largest_cities.csv')\n",
    "print(df.head())"
   ]
  },
  {
   "cell_type": "code",
   "execution_count": 6,
   "id": "e2517a71",
   "metadata": {},
   "outputs": [
    {
     "name": "stdout",
     "output_type": "stream",
     "text": [
      "               Город     Страна  Население  Площадь (км^2)  \\\n",
      "0   Токио — Иокогама     Япония      37785            8775   \n",
      "1           Джакарта  Индонезия      35386            3546   \n",
      "2               Дели      Индия      31190            2344   \n",
      "3  Гуанчжоу — Фошань      Китай      27119            4543   \n",
      "4             Мумбаи      Индия      25189            1046   \n",
      "\n",
      "   Плотность населения (ч/км^2)  \n",
      "0                          4306  \n",
      "1                          9980  \n",
      "2                         13307  \n",
      "3                          5970  \n",
      "4                         24073  \n"
     ]
    }
   ],
   "source": [
    "df = pd.read_csv('largest_cities.csv')\n",
    "\n",
    "# Удаление первых двух столбцов (Место и Фотография)\n",
    "df = df.drop(df.columns[[0, 1]], axis=1)\n",
    "\n",
    "# Переименование столбцов\n",
    "df.columns = ['Город', 'Страна', 'Население', 'Площадь (км^2)', 'Плотность населения (ч/км^2)']\n",
    "\n",
    "# Преобразование числовых колонок в подходящий формат\n",
    "df['Население'] = df['Население'].str.replace(' ', '').astype(int)\n",
    "\n",
    "\n",
    "# Вывод первых строк для проверки\n",
    "print(df.head())"
   ]
  },
  {
   "cell_type": "code",
   "execution_count": null,
   "id": "dc63de36",
   "metadata": {},
   "outputs": [],
   "source": []
  }
 ],
 "metadata": {
  "kernelspec": {
   "display_name": "Python 3 (ipykernel)",
   "language": "python",
   "name": "python3"
  },
  "language_info": {
   "codemirror_mode": {
    "name": "ipython",
    "version": 3
   },
   "file_extension": ".py",
   "mimetype": "text/x-python",
   "name": "python",
   "nbconvert_exporter": "python",
   "pygments_lexer": "ipython3",
   "version": "3.10.9"
  }
 },
 "nbformat": 4,
 "nbformat_minor": 5
}
